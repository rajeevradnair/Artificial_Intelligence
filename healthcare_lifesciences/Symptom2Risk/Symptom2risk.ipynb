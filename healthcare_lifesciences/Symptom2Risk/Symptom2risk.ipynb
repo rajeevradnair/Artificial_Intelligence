{
  "nbformat": 4,
  "nbformat_minor": 0,
  "metadata": {
    "colab": {
      "provenance": [],
      "mount_file_id": "1MfiaR1K3IbQA_b9yXts8dyCpiqsJeMDC",
      "authorship_tag": "ABX9TyOrtuUh+VQ5qhD7/5Dg1ACR"
    },
    "kernelspec": {
      "name": "python3",
      "display_name": "Python 3"
    },
    "language_info": {
      "name": "python"
    }
  },
  "cells": [
    {
      "cell_type": "markdown",
      "source": [
        "# Symptom2Risk — Predicting Diseases from Symptoms using TensorFlow on AWS SageMaker\n",
        "\n",
        "\"\"\"\n",
        "Description:\n",
        "This project builds a machine learning model that predicts the most probable disease\n",
        "based on a list of patient symptoms using deep learning. It leverages a publicly available\n",
        "symptom-disease dataset, encodes symptoms using one-hot vectors, and trains a\n",
        "multi-class classification model using TensorFlow.\n",
        "\n",
        "Key Features:\n",
        "- Dataset: https://www.kaggle.com/datasets/choongqianzheng/disease-and-symptoms-dataset/data\n",
        "- Input: Up to 17 symptoms per case, encoded into 0/1 vectors.\n",
        "- Output: Predicted disease name from among 40+ possibilities.\n",
        "- Uses: TensorFlow/Keras for model training and AWS SageMaker for cloud scalability.\n",
        "- Real-world Use Case: Can serve as a backend for triage tools or digital symptom checkers.\n",
        "\n",
        "This notebook supports model training, evaluation, and saving for deployment to a real-time endpoint.\n",
        "\"\"\""
      ],
      "metadata": {
        "id": "L3zM4YDS2bmH"
      }
    },
    {
      "cell_type": "code",
      "execution_count": 138,
      "metadata": {
        "id": "d-9cFJ1QB_DB"
      },
      "outputs": [],
      "source": [
        "# =====================\n",
        "# 1. Setup & Imports\n",
        "# =====================\n",
        "from google.colab import drive\n",
        "import pandas as pd\n",
        "import numpy as np\n",
        "from sklearn.preprocessing import LabelEncoder\n",
        "from sklearn.model_selection import train_test_split\n",
        "import tensorflow as tf\n",
        "import os\n",
        "from tensorflow.keras.metrics import Precision, Recall, F1Score, TopKCategoricalAccuracy, SparseTopKCategoricalAccuracy"
      ]
    },
    {
      "cell_type": "code",
      "source": [
        "drive.mount('/content/drive')\n",
        "\n",
        "# =====================\n",
        "# 2. Load Dataset\n",
        "# =====================\n",
        "df=pd.read_csv('/content/drive/My Drive/DiseaseAndSymptoms.csv')\n",
        "df.shape"
      ],
      "metadata": {
        "colab": {
          "base_uri": "https://localhost:8080/"
        },
        "id": "Hb2_61pjCpBw",
        "outputId": "d79ddf26-af11-4330-e96b-38968ed58d25"
      },
      "execution_count": 69,
      "outputs": [
        {
          "output_type": "stream",
          "name": "stdout",
          "text": [
            "Drive already mounted at /content/drive; to attempt to forcibly remount, call drive.mount(\"/content/drive\", force_remount=True).\n"
          ]
        },
        {
          "output_type": "execute_result",
          "data": {
            "text/plain": [
              "(4920, 18)"
            ]
          },
          "metadata": {},
          "execution_count": 69
        }
      ]
    },
    {
      "cell_type": "code",
      "source": [
        "# =====================\n",
        "# 3. Data Cleaning & Preprocessing\n",
        "# =====================\n",
        "# Extract all symptom columns\n",
        "symptom_cols = [col for col in df.columns if col.startswith('Symptom_')]\n",
        "\n",
        "# Function to clean symptoms per row (remove NaNs, strip whitespace)\n",
        "def clean_symptoms(row):\n",
        "    symptoms = []\n",
        "    for col in symptom_cols:\n",
        "        val = row[col]\n",
        "        if isinstance(val, str):\n",
        "            symptoms.append(val.strip().lower())\n",
        "    return symptoms\n",
        "\n",
        "# Apply the cleaning function\n",
        "df['all_symptoms'] = df.apply(clean_symptoms, axis=1)\n",
        "\n",
        "# Create a sorted list of all unique symptoms\n",
        "all_symptoms = set()\n",
        "df['all_symptoms'].apply(lambda x: all_symptoms.update(x))\n",
        "all_symptoms = sorted(all_symptoms)\n"
      ],
      "metadata": {
        "id": "62inOKM4C4yD"
      },
      "execution_count": 70,
      "outputs": []
    },
    {
      "cell_type": "code",
      "source": [
        "# One-hot encode symptoms into binary columns\n",
        "for symptom in all_symptoms:\n",
        "    df[symptom] = df['all_symptoms'].apply(lambda x: int(symptom in x))\n",
        "\n",
        "# Encode disease labels\n",
        "le = LabelEncoder()\n",
        "df['disease_encoded'] = le.fit_transform(df['Disease'])\n",
        "len(le.classes_)\n"
      ],
      "metadata": {
        "id": "QHX0fXdAEY3D"
      },
      "execution_count": null,
      "outputs": []
    },
    {
      "cell_type": "code",
      "source": [
        "# Features and target\n",
        "df_X = df[all_symptoms]\n",
        "df_y = df['disease_encoded']"
      ],
      "metadata": {
        "id": "YgpJD3wqE0Z_"
      },
      "execution_count": 72,
      "outputs": []
    },
    {
      "cell_type": "code",
      "source": [
        "# =====================\n",
        "# 4. Train-Test Split\n",
        "# =====================\n",
        "\n",
        "X_train, X_test, y_train, y_test = train_test_split(\n",
        "    df_X, df_y, test_size=0.2, stratify=df_y, random_state=42\n",
        ")\n",
        "X_train.shape, X_test.shape"
      ],
      "metadata": {
        "colab": {
          "base_uri": "https://localhost:8080/"
        },
        "id": "P8vnx_W1E8M3",
        "outputId": "54a6370b-f720-4b15-cf78-e6cfa459bf39"
      },
      "execution_count": 73,
      "outputs": [
        {
          "output_type": "execute_result",
          "data": {
            "text/plain": [
              "((3936, 131), (984, 131))"
            ]
          },
          "metadata": {},
          "execution_count": 73
        }
      ]
    },
    {
      "cell_type": "code",
      "source": [
        "# =====================\n",
        "# 5. Build TensorFlow Model\n",
        "# =====================\n",
        "\n",
        "model = tf.keras.models.Sequential([\n",
        "    tf.keras.layers.Input(shape=(X_train.shape[1],)),\n",
        "    tf.keras.layers.Dense(128, activation='relu'),\n",
        "    tf.keras.layers.Dropout(0.3),\n",
        "    tf.keras.layers.Dense(64, activation='relu'),\n",
        "    tf.keras.layers.Dense(len(le.classes_), activation='softmax')\n",
        "])\n",
        "model.compile(optimizer='adam',\n",
        "              loss='sparse_categorical_crossentropy',\n",
        "              metrics=[\n",
        "                  'accuracy',\n",
        "                  tf.keras.metrics.SparseTopKCategoricalAccuracy(k=3, name='sparse_top3_accuracy')\n",
        "                  ]\n",
        "              )\n",
        "\n",
        "model.summary()"
      ],
      "metadata": {
        "colab": {
          "base_uri": "https://localhost:8080/",
          "height": 262
        },
        "id": "I8bQAASdFEbj",
        "outputId": "c12a257f-2523-4b37-c3f8-c08284a5f745"
      },
      "execution_count": 93,
      "outputs": [
        {
          "output_type": "display_data",
          "data": {
            "text/plain": [
              "\u001b[1mModel: \"sequential_8\"\u001b[0m\n"
            ],
            "text/html": [
              "<pre style=\"white-space:pre;overflow-x:auto;line-height:normal;font-family:Menlo,'DejaVu Sans Mono',consolas,'Courier New',monospace\"><span style=\"font-weight: bold\">Model: \"sequential_8\"</span>\n",
              "</pre>\n"
            ]
          },
          "metadata": {}
        },
        {
          "output_type": "display_data",
          "data": {
            "text/plain": [
              "┏━━━━━━━━━━━━━━━━━━━━━━━━━━━━━━━━━┳━━━━━━━━━━━━━━━━━━━━━━━━┳━━━━━━━━━━━━━━━┓\n",
              "┃\u001b[1m \u001b[0m\u001b[1mLayer (type)                   \u001b[0m\u001b[1m \u001b[0m┃\u001b[1m \u001b[0m\u001b[1mOutput Shape          \u001b[0m\u001b[1m \u001b[0m┃\u001b[1m \u001b[0m\u001b[1m      Param #\u001b[0m\u001b[1m \u001b[0m┃\n",
              "┡━━━━━━━━━━━━━━━━━━━━━━━━━━━━━━━━━╇━━━━━━━━━━━━━━━━━━━━━━━━╇━━━━━━━━━━━━━━━┩\n",
              "│ dense_24 (\u001b[38;5;33mDense\u001b[0m)                │ (\u001b[38;5;45mNone\u001b[0m, \u001b[38;5;34m128\u001b[0m)            │        \u001b[38;5;34m16,896\u001b[0m │\n",
              "├─────────────────────────────────┼────────────────────────┼───────────────┤\n",
              "│ dropout_8 (\u001b[38;5;33mDropout\u001b[0m)             │ (\u001b[38;5;45mNone\u001b[0m, \u001b[38;5;34m128\u001b[0m)            │             \u001b[38;5;34m0\u001b[0m │\n",
              "├─────────────────────────────────┼────────────────────────┼───────────────┤\n",
              "│ dense_25 (\u001b[38;5;33mDense\u001b[0m)                │ (\u001b[38;5;45mNone\u001b[0m, \u001b[38;5;34m64\u001b[0m)             │         \u001b[38;5;34m8,256\u001b[0m │\n",
              "├─────────────────────────────────┼────────────────────────┼───────────────┤\n",
              "│ dense_26 (\u001b[38;5;33mDense\u001b[0m)                │ (\u001b[38;5;45mNone\u001b[0m, \u001b[38;5;34m41\u001b[0m)             │         \u001b[38;5;34m2,665\u001b[0m │\n",
              "└─────────────────────────────────┴────────────────────────┴───────────────┘\n"
            ],
            "text/html": [
              "<pre style=\"white-space:pre;overflow-x:auto;line-height:normal;font-family:Menlo,'DejaVu Sans Mono',consolas,'Courier New',monospace\">┏━━━━━━━━━━━━━━━━━━━━━━━━━━━━━━━━━┳━━━━━━━━━━━━━━━━━━━━━━━━┳━━━━━━━━━━━━━━━┓\n",
              "┃<span style=\"font-weight: bold\"> Layer (type)                    </span>┃<span style=\"font-weight: bold\"> Output Shape           </span>┃<span style=\"font-weight: bold\">       Param # </span>┃\n",
              "┡━━━━━━━━━━━━━━━━━━━━━━━━━━━━━━━━━╇━━━━━━━━━━━━━━━━━━━━━━━━╇━━━━━━━━━━━━━━━┩\n",
              "│ dense_24 (<span style=\"color: #0087ff; text-decoration-color: #0087ff\">Dense</span>)                │ (<span style=\"color: #00d7ff; text-decoration-color: #00d7ff\">None</span>, <span style=\"color: #00af00; text-decoration-color: #00af00\">128</span>)            │        <span style=\"color: #00af00; text-decoration-color: #00af00\">16,896</span> │\n",
              "├─────────────────────────────────┼────────────────────────┼───────────────┤\n",
              "│ dropout_8 (<span style=\"color: #0087ff; text-decoration-color: #0087ff\">Dropout</span>)             │ (<span style=\"color: #00d7ff; text-decoration-color: #00d7ff\">None</span>, <span style=\"color: #00af00; text-decoration-color: #00af00\">128</span>)            │             <span style=\"color: #00af00; text-decoration-color: #00af00\">0</span> │\n",
              "├─────────────────────────────────┼────────────────────────┼───────────────┤\n",
              "│ dense_25 (<span style=\"color: #0087ff; text-decoration-color: #0087ff\">Dense</span>)                │ (<span style=\"color: #00d7ff; text-decoration-color: #00d7ff\">None</span>, <span style=\"color: #00af00; text-decoration-color: #00af00\">64</span>)             │         <span style=\"color: #00af00; text-decoration-color: #00af00\">8,256</span> │\n",
              "├─────────────────────────────────┼────────────────────────┼───────────────┤\n",
              "│ dense_26 (<span style=\"color: #0087ff; text-decoration-color: #0087ff\">Dense</span>)                │ (<span style=\"color: #00d7ff; text-decoration-color: #00d7ff\">None</span>, <span style=\"color: #00af00; text-decoration-color: #00af00\">41</span>)             │         <span style=\"color: #00af00; text-decoration-color: #00af00\">2,665</span> │\n",
              "└─────────────────────────────────┴────────────────────────┴───────────────┘\n",
              "</pre>\n"
            ]
          },
          "metadata": {}
        },
        {
          "output_type": "display_data",
          "data": {
            "text/plain": [
              "\u001b[1m Total params: \u001b[0m\u001b[38;5;34m27,817\u001b[0m (108.66 KB)\n"
            ],
            "text/html": [
              "<pre style=\"white-space:pre;overflow-x:auto;line-height:normal;font-family:Menlo,'DejaVu Sans Mono',consolas,'Courier New',monospace\"><span style=\"font-weight: bold\"> Total params: </span><span style=\"color: #00af00; text-decoration-color: #00af00\">27,817</span> (108.66 KB)\n",
              "</pre>\n"
            ]
          },
          "metadata": {}
        },
        {
          "output_type": "display_data",
          "data": {
            "text/plain": [
              "\u001b[1m Trainable params: \u001b[0m\u001b[38;5;34m27,817\u001b[0m (108.66 KB)\n"
            ],
            "text/html": [
              "<pre style=\"white-space:pre;overflow-x:auto;line-height:normal;font-family:Menlo,'DejaVu Sans Mono',consolas,'Courier New',monospace\"><span style=\"font-weight: bold\"> Trainable params: </span><span style=\"color: #00af00; text-decoration-color: #00af00\">27,817</span> (108.66 KB)\n",
              "</pre>\n"
            ]
          },
          "metadata": {}
        },
        {
          "output_type": "display_data",
          "data": {
            "text/plain": [
              "\u001b[1m Non-trainable params: \u001b[0m\u001b[38;5;34m0\u001b[0m (0.00 B)\n"
            ],
            "text/html": [
              "<pre style=\"white-space:pre;overflow-x:auto;line-height:normal;font-family:Menlo,'DejaVu Sans Mono',consolas,'Courier New',monospace\"><span style=\"font-weight: bold\"> Non-trainable params: </span><span style=\"color: #00af00; text-decoration-color: #00af00\">0</span> (0.00 B)\n",
              "</pre>\n"
            ]
          },
          "metadata": {}
        }
      ]
    },
    {
      "cell_type": "code",
      "source": [
        "# =====================\n",
        "# 6. Train the Model\n",
        "# =====================\n",
        "\n",
        "history = model.fit(\n",
        "    X_train,\n",
        "    y_train,\n",
        "    epochs=20,\n",
        "    batch_size=32,\n",
        "    validation_split=0.1\n",
        ")"
      ],
      "metadata": {
        "colab": {
          "base_uri": "https://localhost:8080/"
        },
        "id": "lIaEJ7ybFVy_",
        "outputId": "3a9b59f9-2172-42d3-81b9-6a399229f79f"
      },
      "execution_count": 94,
      "outputs": [
        {
          "output_type": "stream",
          "name": "stdout",
          "text": [
            "Epoch 1/20\n",
            "\u001b[1m111/111\u001b[0m \u001b[32m━━━━━━━━━━━━━━━━━━━━\u001b[0m\u001b[37m\u001b[0m \u001b[1m2s\u001b[0m 6ms/step - accuracy: 0.3363 - loss: 3.1773 - sparse_top3_accuracy: 0.4835 - val_accuracy: 1.0000 - val_loss: 0.5399 - val_sparse_top3_accuracy: 1.0000\n",
            "Epoch 2/20\n",
            "\u001b[1m111/111\u001b[0m \u001b[32m━━━━━━━━━━━━━━━━━━━━\u001b[0m\u001b[37m\u001b[0m \u001b[1m0s\u001b[0m 3ms/step - accuracy: 0.9967 - loss: 0.3879 - sparse_top3_accuracy: 1.0000 - val_accuracy: 1.0000 - val_loss: 0.0369 - val_sparse_top3_accuracy: 1.0000\n",
            "Epoch 3/20\n",
            "\u001b[1m111/111\u001b[0m \u001b[32m━━━━━━━━━━━━━━━━━━━━\u001b[0m\u001b[37m\u001b[0m \u001b[1m1s\u001b[0m 3ms/step - accuracy: 0.9990 - loss: 0.0541 - sparse_top3_accuracy: 1.0000 - val_accuracy: 1.0000 - val_loss: 0.0118 - val_sparse_top3_accuracy: 1.0000\n",
            "Epoch 4/20\n",
            "\u001b[1m111/111\u001b[0m \u001b[32m━━━━━━━━━━━━━━━━━━━━\u001b[0m\u001b[37m\u001b[0m \u001b[1m0s\u001b[0m 3ms/step - accuracy: 0.9999 - loss: 0.0246 - sparse_top3_accuracy: 1.0000 - val_accuracy: 1.0000 - val_loss: 0.0063 - val_sparse_top3_accuracy: 1.0000\n",
            "Epoch 5/20\n",
            "\u001b[1m111/111\u001b[0m \u001b[32m━━━━━━━━━━━━━━━━━━━━\u001b[0m\u001b[37m\u001b[0m \u001b[1m1s\u001b[0m 3ms/step - accuracy: 0.9994 - loss: 0.0146 - sparse_top3_accuracy: 1.0000 - val_accuracy: 1.0000 - val_loss: 0.0039 - val_sparse_top3_accuracy: 1.0000\n",
            "Epoch 6/20\n",
            "\u001b[1m111/111\u001b[0m \u001b[32m━━━━━━━━━━━━━━━━━━━━\u001b[0m\u001b[37m\u001b[0m \u001b[1m1s\u001b[0m 3ms/step - accuracy: 1.0000 - loss: 0.0101 - sparse_top3_accuracy: 1.0000 - val_accuracy: 1.0000 - val_loss: 0.0029 - val_sparse_top3_accuracy: 1.0000\n",
            "Epoch 7/20\n",
            "\u001b[1m111/111\u001b[0m \u001b[32m━━━━━━━━━━━━━━━━━━━━\u001b[0m\u001b[37m\u001b[0m \u001b[1m0s\u001b[0m 3ms/step - accuracy: 0.9995 - loss: 0.0063 - sparse_top3_accuracy: 1.0000 - val_accuracy: 1.0000 - val_loss: 0.0017 - val_sparse_top3_accuracy: 1.0000\n",
            "Epoch 8/20\n",
            "\u001b[1m111/111\u001b[0m \u001b[32m━━━━━━━━━━━━━━━━━━━━\u001b[0m\u001b[37m\u001b[0m \u001b[1m1s\u001b[0m 3ms/step - accuracy: 0.9993 - loss: 0.0058 - sparse_top3_accuracy: 1.0000 - val_accuracy: 1.0000 - val_loss: 0.0021 - val_sparse_top3_accuracy: 1.0000\n",
            "Epoch 9/20\n",
            "\u001b[1m111/111\u001b[0m \u001b[32m━━━━━━━━━━━━━━━━━━━━\u001b[0m\u001b[37m\u001b[0m \u001b[1m1s\u001b[0m 3ms/step - accuracy: 1.0000 - loss: 0.0042 - sparse_top3_accuracy: 1.0000 - val_accuracy: 1.0000 - val_loss: 0.0016 - val_sparse_top3_accuracy: 1.0000\n",
            "Epoch 10/20\n",
            "\u001b[1m111/111\u001b[0m \u001b[32m━━━━━━━━━━━━━━━━━━━━\u001b[0m\u001b[37m\u001b[0m \u001b[1m1s\u001b[0m 3ms/step - accuracy: 0.9998 - loss: 0.0033 - sparse_top3_accuracy: 1.0000 - val_accuracy: 1.0000 - val_loss: 9.5290e-04 - val_sparse_top3_accuracy: 1.0000\n",
            "Epoch 11/20\n",
            "\u001b[1m111/111\u001b[0m \u001b[32m━━━━━━━━━━━━━━━━━━━━\u001b[0m\u001b[37m\u001b[0m \u001b[1m1s\u001b[0m 3ms/step - accuracy: 1.0000 - loss: 0.0024 - sparse_top3_accuracy: 1.0000 - val_accuracy: 1.0000 - val_loss: 8.7815e-04 - val_sparse_top3_accuracy: 1.0000\n",
            "Epoch 12/20\n",
            "\u001b[1m111/111\u001b[0m \u001b[32m━━━━━━━━━━━━━━━━━━━━\u001b[0m\u001b[37m\u001b[0m \u001b[1m0s\u001b[0m 3ms/step - accuracy: 1.0000 - loss: 0.0023 - sparse_top3_accuracy: 1.0000 - val_accuracy: 1.0000 - val_loss: 7.7138e-04 - val_sparse_top3_accuracy: 1.0000\n",
            "Epoch 13/20\n",
            "\u001b[1m111/111\u001b[0m \u001b[32m━━━━━━━━━━━━━━━━━━━━\u001b[0m\u001b[37m\u001b[0m \u001b[1m0s\u001b[0m 3ms/step - accuracy: 1.0000 - loss: 0.0017 - sparse_top3_accuracy: 1.0000 - val_accuracy: 1.0000 - val_loss: 6.3748e-04 - val_sparse_top3_accuracy: 1.0000\n",
            "Epoch 14/20\n",
            "\u001b[1m111/111\u001b[0m \u001b[32m━━━━━━━━━━━━━━━━━━━━\u001b[0m\u001b[37m\u001b[0m \u001b[1m0s\u001b[0m 3ms/step - accuracy: 1.0000 - loss: 0.0015 - sparse_top3_accuracy: 1.0000 - val_accuracy: 1.0000 - val_loss: 5.4645e-04 - val_sparse_top3_accuracy: 1.0000\n",
            "Epoch 15/20\n",
            "\u001b[1m111/111\u001b[0m \u001b[32m━━━━━━━━━━━━━━━━━━━━\u001b[0m\u001b[37m\u001b[0m \u001b[1m1s\u001b[0m 5ms/step - accuracy: 1.0000 - loss: 0.0013 - sparse_top3_accuracy: 1.0000 - val_accuracy: 1.0000 - val_loss: 6.5474e-04 - val_sparse_top3_accuracy: 1.0000\n",
            "Epoch 16/20\n",
            "\u001b[1m111/111\u001b[0m \u001b[32m━━━━━━━━━━━━━━━━━━━━\u001b[0m\u001b[37m\u001b[0m \u001b[1m1s\u001b[0m 5ms/step - accuracy: 1.0000 - loss: 0.0012 - sparse_top3_accuracy: 1.0000 - val_accuracy: 1.0000 - val_loss: 2.3790e-04 - val_sparse_top3_accuracy: 1.0000\n",
            "Epoch 17/20\n",
            "\u001b[1m111/111\u001b[0m \u001b[32m━━━━━━━━━━━━━━━━━━━━\u001b[0m\u001b[37m\u001b[0m \u001b[1m1s\u001b[0m 5ms/step - accuracy: 1.0000 - loss: 0.0014 - sparse_top3_accuracy: 1.0000 - val_accuracy: 1.0000 - val_loss: 8.1743e-04 - val_sparse_top3_accuracy: 1.0000\n",
            "Epoch 18/20\n",
            "\u001b[1m111/111\u001b[0m \u001b[32m━━━━━━━━━━━━━━━━━━━━\u001b[0m\u001b[37m\u001b[0m \u001b[1m1s\u001b[0m 6ms/step - accuracy: 1.0000 - loss: 0.0012 - sparse_top3_accuracy: 1.0000 - val_accuracy: 1.0000 - val_loss: 2.5397e-04 - val_sparse_top3_accuracy: 1.0000\n",
            "Epoch 19/20\n",
            "\u001b[1m111/111\u001b[0m \u001b[32m━━━━━━━━━━━━━━━━━━━━\u001b[0m\u001b[37m\u001b[0m \u001b[1m1s\u001b[0m 3ms/step - accuracy: 1.0000 - loss: 8.3207e-04 - sparse_top3_accuracy: 1.0000 - val_accuracy: 1.0000 - val_loss: 1.4372e-04 - val_sparse_top3_accuracy: 1.0000\n",
            "Epoch 20/20\n",
            "\u001b[1m111/111\u001b[0m \u001b[32m━━━━━━━━━━━━━━━━━━━━\u001b[0m\u001b[37m\u001b[0m \u001b[1m1s\u001b[0m 3ms/step - accuracy: 1.0000 - loss: 6.8150e-04 - sparse_top3_accuracy: 1.0000 - val_accuracy: 1.0000 - val_loss: 1.0323e-04 - val_sparse_top3_accuracy: 1.0000\n"
          ]
        }
      ]
    },
    {
      "cell_type": "code",
      "source": [
        "\n",
        "# =====================\n",
        "# 7. Evaluate the Model\n",
        "# =====================\n",
        "\n",
        "loss, accuracy, sparse_top3_accuracy = model.evaluate(X_test, y_test)\n",
        "print(f\"Test Accuracy: {accuracy:.4f}\")"
      ],
      "metadata": {
        "colab": {
          "base_uri": "https://localhost:8080/"
        },
        "id": "iUVhprVYFrzQ",
        "outputId": "8e675825-d24d-4d65-ce1f-eb631e6cf9f3"
      },
      "execution_count": 97,
      "outputs": [
        {
          "output_type": "stream",
          "name": "stdout",
          "text": [
            "\u001b[1m31/31\u001b[0m \u001b[32m━━━━━━━━━━━━━━━━━━━━\u001b[0m\u001b[37m\u001b[0m \u001b[1m0s\u001b[0m 2ms/step - accuracy: 1.0000 - loss: 9.2884e-05 - sparse_top3_accuracy: 1.0000\n",
            "Test Accuracy: 1.0000\n"
          ]
        }
      ]
    },
    {
      "cell_type": "code",
      "source": [
        "# =====================\n",
        "# 8. Save the Model for Deployment\n",
        "# =====================\n",
        "\n",
        "model_dir = 'symptom2risk'\n",
        "os.makedirs(model_dir, exist_ok=True)\n",
        "model.save(model_dir+'/'+model_dir+'_model.keras')\n",
        "print(f\"Model saved to {model_dir}/\")"
      ],
      "metadata": {
        "colab": {
          "base_uri": "https://localhost:8080/"
        },
        "id": "VN_T3fcoFw0y",
        "outputId": "565b6093-e270-4c9d-dc53-c02da6463e9f"
      },
      "execution_count": 102,
      "outputs": [
        {
          "output_type": "stream",
          "name": "stdout",
          "text": [
            "Model saved to symptom2risk/\n"
          ]
        }
      ]
    },
    {
      "cell_type": "code",
      "source": [
        "# =====================\n",
        "# 9. Export Label Mapping (for inference)\n",
        "# =====================\n",
        "\n",
        "# Save label encoder classes\n",
        "label_map_path = os.path.join(model_dir, 'label_map.csv')\n",
        "pd.Series(le.classes_).to_csv(label_map_path, index_label='Class_ID', header=['Disease'])\n",
        "print(f\"Label map saved to {label_map_path}\")"
      ],
      "metadata": {
        "colab": {
          "base_uri": "https://localhost:8080/"
        },
        "id": "pxgT1XouIDZv",
        "outputId": "27c5c762-4bc6-4c69-be44-5f41228bd662"
      },
      "execution_count": 103,
      "outputs": [
        {
          "output_type": "stream",
          "name": "stdout",
          "text": [
            "Label map saved to symptom2risk/label_map.csv\n"
          ]
        }
      ]
    },
    {
      "cell_type": "code",
      "source": [
        "# Load saved model from directory\n",
        "model = tf.keras.models.load_model('symptom2risk/symptom2riskmodel.keras')\n",
        "\n",
        "# Load label map to convert class index to disease name\n",
        "label_map = pd.read_csv('symptom2risk/label_map.csv')\n",
        "class_id_to_disease = dict(zip(label_map['Class_ID'], label_map['Disease']))"
      ],
      "metadata": {
        "id": "BJRFEoQ-zvDL"
      },
      "execution_count": 109,
      "outputs": []
    },
    {
      "cell_type": "code",
      "source": [
        "#Prepare data for prediction\n",
        "\n",
        "#Input symptoms\n",
        "input_symptoms = ['headache', 'rash', 'fatigue']\n",
        "\n",
        "#One-hot encode the input symptoms and create an input vector\n",
        "all_symptoms = list(df_X.columns)\n",
        "input_vector = [1 if symptom in input_symptoms else 0 for symptom in all_symptoms]\n",
        "input_vector = np.array([input_vector])"
      ],
      "metadata": {
        "id": "bbSR7ASb0PTD"
      },
      "execution_count": 136,
      "outputs": []
    },
    {
      "cell_type": "code",
      "source": [
        "# Predict class probabilities\n",
        "prediction = model.predict(input_vector)\n",
        "\n",
        "# Get predicted class index (highest probability) ...remember it is softmax layer\n",
        "prediction, tf.argmax(prediction[0]).numpy()\n",
        "\n",
        "# Map index to actual disease name\n",
        "predicted_disease = class_id_to_disease[tf.argmax(prediction[0]).numpy()]\n",
        "\n",
        "print(f\"Predicted Disease: {predicted_disease}\")\n"
      ],
      "metadata": {
        "colab": {
          "base_uri": "https://localhost:8080/"
        },
        "id": "pH7QdCQT0q-e",
        "outputId": "fbf8030c-145b-4ec1-fe13-c3438116cb3a"
      },
      "execution_count": 137,
      "outputs": [
        {
          "output_type": "stream",
          "name": "stdout",
          "text": [
            "\u001b[1m1/1\u001b[0m \u001b[32m━━━━━━━━━━━━━━━━━━━━\u001b[0m\u001b[37m\u001b[0m \u001b[1m0s\u001b[0m 38ms/step\n",
            "Predicted Disease: Hypertension \n"
          ]
        }
      ]
    }
  ]
}